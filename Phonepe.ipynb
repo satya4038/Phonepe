{
  "nbformat": 4,
  "nbformat_minor": 0,
  "metadata": {
    "colab": {
      "provenance": [],
      "authorship_tag": "ABX9TyP7ZsBcrTcGSvyxLJ+OPnzS",
      "include_colab_link": true
    },
    "kernelspec": {
      "name": "python3",
      "display_name": "Python 3"
    },
    "language_info": {
      "name": "python"
    }
  },
  "cells": [
    {
      "cell_type": "markdown",
      "metadata": {
        "id": "view-in-github",
        "colab_type": "text"
      },
      "source": [
        "<a href=\"https://colab.research.google.com/github/satya4038/Phonepe/blob/main/Phonepe.ipynb\" target=\"_parent\"><img src=\"https://colab.research.google.com/assets/colab-badge.svg\" alt=\"Open In Colab\"/></a>"
      ]
    },
    {
      "cell_type": "markdown",
      "source": [
        "Phonepe Pulse Data Visualization and Exploration:\n",
        "A User-Friendly Tool Using Streamlit and Plotly"
      ],
      "metadata": {
        "id": "E-2k7NJvcvT1"
      }
    },
    {
      "cell_type": "code",
      "execution_count": null,
      "metadata": {
        "colab": {
          "base_uri": "https://localhost:8080/"
        },
        "id": "c555wJXkOd42",
        "outputId": "df0e40b4-37d9-4076-c58b-88a10f2fe6f9"
      },
      "outputs": [
        {
          "output_type": "stream",
          "name": "stdout",
          "text": [
            "Cloning into 'pulse'...\n",
            "remote: Enumerating objects: 9585, done.\u001b[K\n",
            "remote: Counting objects: 100% (9/9), done.\u001b[K\n",
            "remote: Compressing objects: 100% (9/9), done.\u001b[K\n",
            "remote: Total 9585 (delta 0), reused 1 (delta 0), pack-reused 9576\u001b[K\n",
            "Receiving objects: 100% (9585/9585), 2.32 MiB | 6.22 MiB/s, done.\n",
            "Resolving deltas: 100% (4219/4219), done.\n"
          ]
        }
      ],
      "source": [
        "!git clone https://github.com/PhonePe/pulse.git"
      ]
    },
    {
      "cell_type": "code",
      "source": [
        "!apt-get install -y git"
      ],
      "metadata": {
        "colab": {
          "base_uri": "https://localhost:8080/"
        },
        "id": "LWmjlxzsg8cA",
        "outputId": "bfb49e8c-a960-4cb1-8a00-cc85f2851a67"
      },
      "execution_count": null,
      "outputs": [
        {
          "output_type": "stream",
          "name": "stdout",
          "text": [
            "Reading package lists... Done\n",
            "Building dependency tree... Done\n",
            "Reading state information... Done\n",
            "git is already the newest version (1:2.34.1-1ubuntu1.10).\n",
            "0 upgraded, 0 newly installed, 0 to remove and 10 not upgraded.\n"
          ]
        }
      ]
    },
    {
      "cell_type": "code",
      "source": [
        "!pip install mysql-connector-python\n"
      ],
      "metadata": {
        "colab": {
          "base_uri": "https://localhost:8080/"
        },
        "id": "NeD0pOCzvrUu",
        "outputId": "196f6df5-d916-4537-ee35-897233dc737d"
      },
      "execution_count": null,
      "outputs": [
        {
          "output_type": "stream",
          "name": "stdout",
          "text": [
            "Requirement already satisfied: mysql-connector-python in /usr/local/lib/python3.10/dist-packages (8.2.0)\n",
            "Requirement already satisfied: protobuf<=4.21.12,>=4.21.1 in /usr/local/lib/python3.10/dist-packages (from mysql-connector-python) (4.21.12)\n"
          ]
        }
      ]
    },
    {
      "cell_type": "code",
      "source": [
        "pip install GitPython\n"
      ],
      "metadata": {
        "colab": {
          "base_uri": "https://localhost:8080/"
        },
        "id": "M46pIP19EuHT",
        "outputId": "8040b1a3-7125-4222-8bda-23dc91eba641"
      },
      "execution_count": null,
      "outputs": [
        {
          "output_type": "stream",
          "name": "stdout",
          "text": [
            "Collecting GitPython\n",
            "  Downloading GitPython-3.1.40-py3-none-any.whl (190 kB)\n",
            "\u001b[?25l     \u001b[90m━━━━━━━━━━━━━━━━━━━━━━━━━━━━━━━━━━━━━━━━\u001b[0m \u001b[32m0.0/190.6 kB\u001b[0m \u001b[31m?\u001b[0m eta \u001b[36m-:--:--\u001b[0m\r\u001b[2K     \u001b[91m━━━━━━━━━━━━━━━━━━━━━━━━━━━━━━━━━━━━━━\u001b[0m\u001b[91m╸\u001b[0m\u001b[90m━\u001b[0m \u001b[32m184.3/190.6 kB\u001b[0m \u001b[31m5.6 MB/s\u001b[0m eta \u001b[36m0:00:01\u001b[0m\r\u001b[2K     \u001b[90m━━━━━━━━━━━━━━━━━━━━━━━━━━━━━━━━━━━━━━━━\u001b[0m \u001b[32m190.6/190.6 kB\u001b[0m \u001b[31m4.9 MB/s\u001b[0m eta \u001b[36m0:00:00\u001b[0m\n",
            "\u001b[?25hCollecting gitdb<5,>=4.0.1 (from GitPython)\n",
            "  Downloading gitdb-4.0.11-py3-none-any.whl (62 kB)\n",
            "\u001b[?25l     \u001b[90m━━━━━━━━━━━━━━━━━━━━━━━━━━━━━━━━━━━━━━━━\u001b[0m \u001b[32m0.0/62.7 kB\u001b[0m \u001b[31m?\u001b[0m eta \u001b[36m-:--:--\u001b[0m\r\u001b[2K     \u001b[90m━━━━━━━━━━━━━━━━━━━━━━━━━━━━━━━━━━━━━━━━\u001b[0m \u001b[32m62.7/62.7 kB\u001b[0m \u001b[31m10.5 MB/s\u001b[0m eta \u001b[36m0:00:00\u001b[0m\n",
            "\u001b[?25hCollecting smmap<6,>=3.0.1 (from gitdb<5,>=4.0.1->GitPython)\n",
            "  Downloading smmap-5.0.1-py3-none-any.whl (24 kB)\n",
            "Installing collected packages: smmap, gitdb, GitPython\n",
            "Successfully installed GitPython-3.1.40 gitdb-4.0.11 smmap-5.0.1\n"
          ]
        }
      ]
    },
    {
      "cell_type": "code",
      "source": [
        "!pip install --upgrade mysql-connector-python"
      ],
      "metadata": {
        "colab": {
          "base_uri": "https://localhost:8080/"
        },
        "id": "cIGLKOM2g6BS",
        "outputId": "8b9489c7-05e4-407f-97f7-ffc611f139ff"
      },
      "execution_count": null,
      "outputs": [
        {
          "output_type": "stream",
          "name": "stdout",
          "text": [
            "Requirement already satisfied: mysql-connector-python in /usr/local/lib/python3.10/dist-packages (8.2.0)\n",
            "Requirement already satisfied: protobuf<=4.21.12,>=4.21.1 in /usr/local/lib/python3.10/dist-packages (from mysql-connector-python) (4.21.12)\n"
          ]
        }
      ]
    },
    {
      "cell_type": "code",
      "source": [
        "# Required libraries for the program\n",
        "import pandas as pd\n",
        "import json\n",
        "import os\n",
        "import mysql.connector\n",
        "import git  # Make sure to install the 'GitPython' library (pip install GitPython)\n",
        "\n",
        "# GitHub repository URL\n",
        "github_repo_url = \"https://github.com/username/repo.git\"  # Replace with your repository URL\n",
        "local_repo_path = \"/path/to/local/repo\"  # Replace with your desired local path\n",
        "\n",
        "# Clone the GitHub repository\n",
        "if not os.path.exists(local_repo_path):\n",
        "    git.Repo.clone_from(github_repo_url, local_repo_path)\n",
        "\n",
        "# Check the content of the directory\n",
        "path = os.path.join(local_repo_path, \"pulse/data/aggregated/transaction/country/india/state\")\n",
        "\n",
        "if os.path.exists(path):\n",
        "    Agg_state_list = os.listdir(path)\n",
        "\n",
        "    # This is to extract the data's to create a dataframe\n",
        "    clm = {'State': [], 'Year': [], 'Quarter': [], 'Transaction_type': [], 'Transaction_count': [], 'Transaction_amount': []}\n",
        "    for i in Agg_state_list:\n",
        "        p_i = os.path.join(path, i + \"/\")\n",
        "        Agg_yr = os.listdir(p_i)\n",
        "        for j in Agg_yr:\n",
        "            p_j = os.path.join(p_i, j + \"/\")\n",
        "            Agg_yr_list = os.listdir(p_j)\n",
        "            for k in Agg_yr_list:\n",
        "                p_k = os.path.join(p_j, k)\n",
        "                with open(p_k, 'r') as Data:\n",
        "                    D = json.load(Data)\n",
        "                    for z in D['data']['transactionData']:\n",
        "                        Name = z['name']\n",
        "                        count = z['paymentInstruments'][0]['count']\n",
        "                        amount = z['paymentInstruments'][0]['amount']\n",
        "                        clm['Transaction_type'].append(Name)\n",
        "                        clm['Transaction_count'].append(count)\n",
        "                        clm['Transaction_amount'].append(amount)\n",
        "                        clm['State'].append(i)\n",
        "                        clm['Year'].append(j)\n",
        "                        clm['Quarter'].append(int(k.strip('.json')))\n",
        "\n",
        "    # Successfully created a dataframe\n",
        "    Agg_Trans = pd.DataFrame(clm)\n",
        "\n",
        "    # Step 3: Database Insertion\n",
        "    # Connect to MySQL database\n",
        "    db_connection = mysql.connector.connect(\n",
        "        host=\"localhost\",\n",
        "        user=\"shyam4038\",\n",
        "        password=\"shyam123\",\n",
        "        database=\"phonepe\"\n",
        "    )\n",
        "\n",
        "    # Create a MySQL cursor\n",
        "    cursor = db_connection.cursor()\n",
        "\n",
        "    # Insert data into MySQL table (assuming a table named 'phonepe_transaction_data')\n",
        "    create_table_query = \"\"\"\n",
        "    CREATE TABLE IF NOT EXISTS phonepe_transaction_data (\n",
        "        State VARCHAR(255),\n",
        "        Year VARCHAR(255),\n",
        "        Quarter INT,\n",
        "        Transaction_type VARCHAR(255),\n",
        "        Transaction_count INT,\n",
        "        Transaction_amount FLOAT\n",
        "    )\n",
        "    \"\"\"\n",
        "    cursor.execute(create_table_query)\n",
        "\n",
        "    insert_query = f\"INSERT INTO phonepe_transaction_data ({', '.join(Agg_Trans.columns)}) VALUES ({', '.join(['%s'] * len(Agg_Trans.columns))})\"\n",
        "    values = [tuple(row) for row in Agg_Trans.values]\n",
        "\n",
        "    cursor.executemany(insert_query, values)\n",
        "\n",
        "    # Commit changes and close connection\n",
        "    db_connection.commit()\n",
        "    cursor.close()\n",
        "    db_connection.close()\n",
        "\n",
        "    # Step 4: Dashboard Creation\n",
        "    import streamlit as st\n",
        "    import plotly.express as px\n",
        "\n",
        "    # Load data from MySQL into Pandas DataFrame\n",
        "    db_connection = mysql.connector.connect(\n",
        "        host=\"localhost\",\n",
        "        user=\"shyam4038\",\n",
        "        password=\"shyam123\",\n",
        "        database=\"phonepe\"\n",
        "    )\n",
        "\n",
        "    # Fetch data into a Pandas DataFrame (assuming the table name is 'phonepe_transaction_data')\n",
        "    dashboard_data = pd.read_sql_query(\"SELECT * FROM phonepe_transaction_data\", db_connection)\n",
        "\n",
        "    # Step 5: Display Dashboard\n",
        "    st.title(\"Phonepe Pulse Dashboard\")\n",
        "\n",
        "    # Create a Streamlit dropdown for user selection\n",
        "    selected_metric = st.selectbox(\"Select a metric to display\", dashboard_data.columns)\n",
        "\n",
        "    # Create a Plotly figure based on user selection\n",
        "    fig = px.scatter_geo(dashboard_data, locationmode=\"country names\", locations=\"State\", color=selected_metric, size=selected_metric, hover_name=\"State\")\n",
        "    st.plotly_chart(fig)\n",
        "else:\n",
        "    print(f\"The specified path does not exist: {path}\")\n"
      ],
      "metadata": {
        "id": "p9POWRI1cSlW"
      },
      "execution_count": null,
      "outputs": []
    }
  ]
}